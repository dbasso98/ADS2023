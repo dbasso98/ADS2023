{
 "cells": [
  {
   "cell_type": "markdown",
   "metadata": {},
   "source": [
    "# Laboratorio 2\n",
    "\n",
    "## Algoritmi di ordinamento ed equazioni ricorsive"
   ]
  },
  {
   "cell_type": "markdown",
   "metadata": {},
   "source": [
    "\n",
    "Abbiamo un algoritmo di questo tipo:\n",
    "```\n",
    "def function(n) -> int:\n",
    "    if (n <= 1)\n",
    "        return n;\n",
    "    else\n",
    "        a <- 1;\n",
    "        for k <- 1 to n do\n",
    "            a <- a * 2;\n",
    "        endfor\n",
    "        return a + 2 * function(n/2);\n",
    "    endif\n",
    "```\n",
    "\n",
    "1. Determinare in modo esplicito il costo computazionale della precedente funzione ricorsiva.\n",
    "2. Risolvere l'equazione ricorsiva trovata con il metodo della sostituzione.\n",
    "3. Risolvere l'equazione ricorsiva trovata con l' albero di ricorsione.\n",
    "4. Risolvere l'equazione ricorsiva trovata con il teorema dell'esperto.\n",
    "5. (*Opzionale*) implementare la funzione in Python e verificare il costo computazionale stimato osservando i tempi di esecuzione per input di dimensione crescente."
   ]
  }
 ],
 "metadata": {
  "kernelspec": {
   "display_name": "py39",
   "language": "python",
   "name": "python3"
  },
  "language_info": {
   "name": "python",
   "version": "3.9.18"
  }
 },
 "nbformat": 4,
 "nbformat_minor": 2
}
