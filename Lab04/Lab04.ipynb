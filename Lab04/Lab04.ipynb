{
 "cells": [
  {
   "cell_type": "markdown",
   "metadata": {},
   "source": [
    "# Laboratorio 4\n",
    "## QuickSort\n",
    "Metodo basato sul paradigma di _divide et impera_."
   ]
  },
  {
   "cell_type": "markdown",
   "metadata": {},
   "source": [
    "### Come funziona in teoria\n",
    "1. Illustrare il funzionamento di *PARTITION* sull'array $A = \\langle 13, 19, 9, 5, 12, 8, 7, 4, 21, 2, 6, 11 \\rangle$, supponendo di scegliere come pivot l'ultimo elemento dell'array.\n",
    "$$\n",
    "\\langle 13,19,9,5,12,8,7,4,21,2,6,11\\rangle, \\\\\n",
    "\\langle 13,19,9,5,12,8,7,4,21,2,6,11\\rangle, \\\\\n",
    "\\langle 13,19,9,5,12,8,7,4,21,2,6,11\\rangle, \\\\\n",
    "\\langle 9,19,13,5,12,8,7,4,21,2,6,11\\rangle, \\\\\n",
    "\\langle 9,5,13,19,12,8,7,4,21,2,6,11\\rangle, \\\\\n",
    "\\langle 9,5,13,19,12,8,7,4,21,2,6,11\\rangle, \\\\\n",
    "\\langle 9,5,8,19,12,13,7,4,21,2,6,11\\rangle, \\\\\n",
    "\\langle 9,5,8,7,12,13,19,4,21,2,6,11\\rangle, \\\\\n",
    "\\langle 9,5,8,7,4,13,19,12,21,2,6,11\\rangle, \\\\\n",
    "\\langle 9,5,8,7,4,13,19,12,21,2,6,11\\rangle, \\\\\n",
    "\\langle 9,5,8,7,4,2,19,12,21,13,6,11\\rangle, \\\\\n",
    "\\langle 9,5,8,7,4,2,6,12,21,13,19,11\\rangle, \\\\\n",
    "\\langle 9,5,8,7,4,2,6,11,21,13,19,12\\rangle\n",
    "$$\n",
    "\n",
    "2. Utilizzare il metodo della sostituzione per dimostrare che la ricorrenza $T(n)=T(n-1)+\\Theta(n)$ ha soluzione $T(n) = \\Theta(n^2). $\n",
    "$$\n",
    "\\begin{aligned}\n",
    "T(n) & =   T(n - 1) + c_2n \\\\\\\\\n",
    "     & \\le c_1(n - 1)^2 + c_2n \\\\\\\\\n",
    "     & =   c_1n^2 - 2c_1 n + c_2n + c_1  & (2c_1 > c_2, n \\ge c_1 / (2c_1 - c_2)) \\\\\\\\\n",
    "     & \\le c_1n^2.\n",
    "\\end{aligned}\n",
    "$$"
   ]
  },
  {
   "cell_type": "markdown",
   "metadata": {},
   "source": [
    "### Implementazione con Python\n",
    "Implementeremo:\n",
    "- La funzione _partition_ che risistema il sottoarray A[p,...,r] in loco.\n",
    "- La funzione _quicksort_ per l'ordinamento "
   ]
  },
  {
   "cell_type": "code",
   "execution_count": 1,
   "metadata": {},
   "outputs": [],
   "source": [
    "import copy\n",
    "A = [1, 2, 38, 7, 4, 7, 88, 130, 10]"
   ]
  },
  {
   "cell_type": "code",
   "execution_count": 4,
   "metadata": {},
   "outputs": [],
   "source": [
    "def partition(A: list[int], p: int, r: int) -> int:\n",
    "    \"\"\"\n",
    "    Funzione che partiziona gli elementi di A, dall'indice p all'indice r in due gruppi, \n",
    "    rispetto al valore di A in r. \n",
    "    Restituisce un indice i che gode delle seguenti proprietà:\n",
    "    - A[i] assume il valore a\n",
    "    - A[p, i-1] contiene i valori minori o uguali ad a \n",
    "    - A[i+1, r] contiene i valori maggiori o uguali ad a \n",
    "    \n",
    "    Args:\n",
    "    - A (list[int]):    la lista di interi da partizionare\n",
    "    - p (int):          l'indice di inizio della partizione\n",
    "    - r (int):          l'indice di fine della partizione\n",
    "    \n",
    "    Returns:\n",
    "    - int: l'indice i\n",
    "    \"\"\"\n",
    "    assert p <= r, \"p deve essere minore o uguale a r\"\n",
    "    pivot = A[r]\n",
    "    i = p - 1\n",
    "    for j in range(p, r): \n",
    "        if A[j] < pivot: \n",
    "            i += 1\n",
    "            A[j], A[i] = A[i], A[j]\n",
    "    A[i+1], A[r] = A[r], A[i+1]\n",
    "\n",
    "    return i+1"
   ]
  },
  {
   "cell_type": "markdown",
   "metadata": {},
   "source": [
    "Applichiamo la funzione di partizionamento al nostro array A:"
   ]
  },
  {
   "cell_type": "code",
   "execution_count": 5,
   "metadata": {},
   "outputs": [
    {
     "data": {
      "text/plain": [
       "[1, 2, 7, 4, 7, 10, 38, 130, 88]"
      ]
     },
     "execution_count": 5,
     "metadata": {},
     "output_type": "execute_result"
    }
   ],
   "source": [
    "_ = partition(A, 0, len(A)-1)\n",
    "A"
   ]
  },
  {
   "cell_type": "markdown",
   "metadata": {},
   "source": [
    "Ora vediamo la funzione di _quicksort_ che sfrutta la partizione di ordinamento appena vista."
   ]
  },
  {
   "cell_type": "code",
   "execution_count": 6,
   "metadata": {},
   "outputs": [],
   "source": [
    "def quicksort(A: list[int], p: int, r: int) -> list[int]:\n",
    "    \"\"\"\n",
    "    Algoritmo di ordinamento quicksort.\n",
    "    Ordina la lista di interi A dal valore minore a quello maggiore.\n",
    "    \n",
    "    Args:\n",
    "    - A (list[int]):    la lista di interi da ordinare\n",
    "    - p (int):          l'indice di inizio della porzione di lista da ordinare\n",
    "    - r (int):          l'indice di fine della porzione di lista da ordinare\n",
    "    \n",
    "    Returns:\n",
    "    - list[int]: la lista di interi ordinata\n",
    "    \"\"\"\n",
    "    if p <= r:\n",
    "        q = partition(A, p, r)\n",
    "        quicksort(A, p, q-1)\n",
    "        quicksort(A, q+1, r)\n",
    "\n",
    "    return A"
   ]
  },
  {
   "cell_type": "code",
   "execution_count": 7,
   "metadata": {},
   "outputs": [],
   "source": [
    "A = [1, 2, 38, 7, 4, 7, 88, 74, 32, 89, 56, 6, 31, 100, 130, 0]"
   ]
  },
  {
   "cell_type": "code",
   "execution_count": 8,
   "metadata": {},
   "outputs": [
    {
     "data": {
      "text/plain": [
       "[0, 1, 2, 4, 6, 7, 7, 31, 32, 38, 56, 74, 88, 89, 100, 130]"
      ]
     },
     "execution_count": 8,
     "metadata": {},
     "output_type": "execute_result"
    }
   ],
   "source": [
    "quicksort(A, 0, len(A)-1)\n",
    "A"
   ]
  },
  {
   "cell_type": "markdown",
   "metadata": {},
   "source": [
    "#### Analisi del caso peggiore\n",
    "\n",
    "Il caso peggiore per _quickSort_ si verifica quando la partizione produce un sottoarray con n-1 elementi e uno con 0 elementi. Questo caso si verifica quando l'array è già ordinato o è ordinato al contrario. In questo caso, il tempo di esecuzione è $\\Theta(n^2)$.\n",
    "Vediamo un esempio nel quale faremo in modo di ottenere sempre il caso peggiore e misuriamo i tempi di esecuzione per diversi valori di n."
   ]
  },
  {
   "cell_type": "code",
   "execution_count": 9,
   "metadata": {},
   "outputs": [],
   "source": [
    "def verify_order(A):\n",
    "    for i in range(1, len(A)):\n",
    "        assert A[i-1] <= A[i], \"Array non ordinato\"\n",
    "    "
   ]
  },
  {
   "cell_type": "code",
   "execution_count": 17,
   "metadata": {},
   "outputs": [
    {
     "name": "stderr",
     "output_type": "stream",
     "text": [
      "  0%|          | 0/10 [00:00<?, ?it/s]"
     ]
    },
    {
     "name": "stderr",
     "output_type": "stream",
     "text": [
      "100%|██████████| 10/10 [00:01<00:00,  5.86it/s]\n"
     ]
    },
    {
     "data": {
      "image/png": "[encoded data removed]",
      "text/plain": [
       "<Figure size 640x480 with 1 Axes>"
      ]
     },
     "metadata": {},
     "output_type": "display_data"
    }
   ],
   "source": [
    "import numpy as np\n",
    "import matplotlib.pyplot as plt\n",
    "from tqdm import tqdm\n",
    "import time\n",
    "\n",
    "max_pow = 12\n",
    "times = []\n",
    "for i in tqdm(range(2,max_pow)):\n",
    "    A = np.linspace(0, 2**i, 2**i)\n",
    "    since = time.time()\n",
    "    quicksort(A, 0, len(A)-1)\n",
    "    times.append(time.time() - since)\n",
    "    verify_order(A)\n",
    "\n",
    "plt.plot(times, c=\"blue\", label=\"times\")\n",
    "plt.xlabel(\"Input size\")\n",
    "plt.ylabel(\"Time (s)\")\n",
    "plt.show()"
   ]
  },
  {
   "cell_type": "markdown",
   "metadata": {},
   "source": [
    "#### Euristiche per evitare il caso peggiore\n",
    "\n",
    "* Ripetere l'implementazione di _quicksort_, aggiungendo una delle modalità mostrate a lezione per evitare di ottenere il caso peggiore ad ogni iterazione.\n",
    "* Ricalcolare i tempi di esecuzione per diversi valori di n e confrontarli con quelli ottenuti in precedenza.\n",
    "* Confrontare i tempi di esecuzione con quelli ottenuti con l'implementazione di _mergeSort_."
   ]
  },
  {
   "cell_type": "code",
   "execution_count": 18,
   "metadata": {},
   "outputs": [],
   "source": [
    "def quicksort_improved(A, p, r):\n",
    "    \"\"\" \n",
    "    # choose the median between 3 random elements\n",
    "    if r-p > 3:\n",
    "        # choose 3 elements randomly\n",
    "        idx = np.random.choice(list(range(p,r)), 3, replace=False)\n",
    "        # index of the pivot\n",
    "        pivot_idx = np.where(A == np.median([A[i] for i in idx]))[0][0]\n",
    "        # move pivot to the end \n",
    "\n",
    "        A[pivot_idx], A[r] = A[r], A[pivot_idx]\"\"\"\n",
    "        \n",
    "    if p <= r:\n",
    "        # choose a different random pivot each time\n",
    "        pivot_idx = np.random.randint(p, r) if p < r else p \n",
    "        A[pivot_idx], A[r] = A[r], A[pivot_idx]\n",
    "        q = partition(A, p, r)\n",
    "        quicksort_improved(A, p, q-1)\n",
    "        quicksort_improved(A, q+1, r)\n",
    "    return A\n"
   ]
  },
  {
   "cell_type": "code",
   "execution_count": 19,
   "metadata": {},
   "outputs": [
    {
     "data": {
      "text/plain": [
       "[0, 1, 2, 4, 6, 7, 7, 31, 32, 38, 56, 74, 88, 89, 100, 130]"
      ]
     },
     "execution_count": 19,
     "metadata": {},
     "output_type": "execute_result"
    }
   ],
   "source": [
    "# just to verify it does exactly the same as before\n",
    "A = [1, 2, 38, 7, 4, 7, 88, 74, 32, 89, 56, 6, 31, 100, 130, 0]\n",
    "quicksort_improved(copy.deepcopy(A), 0, len(A)-1)"
   ]
  },
  {
   "cell_type": "code",
   "execution_count": 20,
   "metadata": {},
   "outputs": [
    {
     "name": "stderr",
     "output_type": "stream",
     "text": [
      "100%|██████████| 10/10 [00:00<00:00, 912.24it/s]\n"
     ]
    },
    {
     "data": {
      "text/plain": [
       "<matplotlib.legend.Legend at 0x1a6c61f7990>"
      ]
     },
     "execution_count": 20,
     "metadata": {},
     "output_type": "execute_result"
    },
    {
     "data": {
      "image/png": "[encoded data removed]",
      "text/plain": [
       "<Figure size 640x480 with 1 Axes>"
      ]
     },
     "metadata": {},
     "output_type": "display_data"
    }
   ],
   "source": [
    "max_pow = 10\n",
    "improved_times = []\n",
    "for i in tqdm(range(max_pow)):\n",
    "    A = np.linspace(0, 2**i, 2**i)\n",
    "    since = time.time()\n",
    "    quicksort_improved(A, 0, len(A)-1)\n",
    "    improved_times.append(time.time() - since)\n",
    "    verify_order(A)\n",
    "\n",
    "plt.plot(times, c=\"blue\", label=\"quicksort\")\n",
    "plt.plot(improved_times, c=\"red\", label=\"improved quicksort\")\n",
    "plt.xlabel(\"Input size\")\n",
    "plt.ylabel(\"Time (s)\")\n",
    "plt.legend()"
   ]
  },
  {
   "cell_type": "markdown",
   "metadata": {},
   "source": [
    "#### Comparazione con *mergeSort*"
   ]
  },
  {
   "cell_type": "code",
   "execution_count": 21,
   "metadata": {},
   "outputs": [],
   "source": [
    "# In-place implementation of ****Merge sort****\n",
    "def merge_sort_in_place(lst: list[float]) -> None:\n",
    "    if len(lst) > 1:\n",
    "        mid = len(lst) // 2\n",
    "        left_half = lst[:mid]\n",
    "        right_half = lst[mid:]\n",
    "        merge_sort_in_place(left_half)\n",
    "        merge_sort_in_place(right_half)\n",
    "        merge(lst, left_half, right_half)\n",
    "\n",
    "def merge(lst, left_half, right_half):\n",
    "    i = j = k = 0\n",
    "\n",
    "    # Merge the two halves back into lst\n",
    "    while i < len(left_half) and j < len(right_half):\n",
    "        if left_half[i] < right_half[j]:\n",
    "            lst[k] = left_half[i]\n",
    "            i += 1\n",
    "        else:\n",
    "            lst[k] = right_half[j]\n",
    "            j += 1\n",
    "        k += 1\n",
    "\n",
    "    # Copy any remaining elements from left_half and right_half, if any\n",
    "    while i < len(left_half):\n",
    "        lst[k] = left_half[i]\n",
    "        i += 1\n",
    "        k += 1\n",
    "        \n",
    "    while j < len(right_half):\n",
    "        lst[k] = right_half[j]\n",
    "        j += 1\n",
    "        k += 1 "
   ]
  },
  {
   "cell_type": "code",
   "execution_count": 22,
   "metadata": {},
   "outputs": [
    {
     "name": "stderr",
     "output_type": "stream",
     "text": [
      "100%|██████████| 10/10 [00:00<00:00, 1661.37it/s]\n"
     ]
    },
    {
     "data": {
      "text/plain": [
       "<matplotlib.legend.Legend at 0x1a6c63df990>"
      ]
     },
     "execution_count": 22,
     "metadata": {},
     "output_type": "execute_result"
    },
    {
     "data": {
      "image/png": "[encoded data removed]",
      "text/plain": [
       "<Figure size 640x480 with 1 Axes>"
      ]
     },
     "metadata": {},
     "output_type": "display_data"
    }
   ],
   "source": [
    "quicksort_times = improved_times\n",
    "merge_sort_times = []\n",
    "\n",
    "for i in tqdm(range(max_pow)):\n",
    "    A = np.linspace(0, 2**i, 2**i)\n",
    "    since = time.time()\n",
    "    merge_sort_in_place(A)\n",
    "    merge_sort_times.append(time.time() - since)\n",
    "    verify_order(A)\n",
    "\n",
    "plt.plot(quicksort_times, c=\"blue\", label=\"improved quicksort\")\n",
    "plt.plot(merge_sort_times, c=\"red\", label=\"mergesort\")\n",
    "plt.xlabel(\"Input size\")\n",
    "plt.ylabel(\"Time (s)\")\n",
    "plt.legend()"
   ]
  }
 ],
 "metadata": {
  "kernelspec": {
   "display_name": "Python 3",
   "language": "python",
   "name": "python3"
  },
  "language_info": {
   "codemirror_mode": {
    "name": "ipython",
    "version": 3
   },
   "file_extension": ".py",
   "mimetype": "text/x-python",
   "name": "python",
   "nbconvert_exporter": "python",
   "pygments_lexer": "ipython3",
   "version": "3.11.4"
  }
 },
 "nbformat": 4,
 "nbformat_minor": 4
}
