{
 "cells": [
  {
   "cell_type": "markdown",
   "metadata": {},
   "source": [
    "# Laboratorio 3\n",
    "\n",
    "## HEAPSORT\n",
    "\n",
    "Heapsort è uno dei tanti algoritmi di ordinamento, esso presenta però una caratteristica che lo differenzia dagli altri: utilizza, infatti, una particolare struttura dati, denominata **heap**, per gestire gli elementi da ordinare.\n",
    "\n",
    "La struttura di dati _heap_ è un array che può essere visto come un albero binario bilanciato.\n",
    "* Ogni nodo dell'albero corrisponde a un elemento dell'array che contiene il valore del nodo.\n",
    "* L'albero è riempito su tutti i livelli tranne, eventualmente, il più basso che è riempito da sinistra in poi.\n",
    "* I max-heap (min-heap) soddisfano la proprietà di ordinamento parziale: il valore di un nodo è *minore* (*maggiore*) uguale al valore del padre: quindi l'elemento più grande (più piccolo) è memorizzato nella radice.\n",
    "\n",
    "<img src='Max-Heap.png' style=\"background:white\"/>"
   ]
  },
  {
   "cell_type": "markdown",
   "metadata": {},
   "source": [
    "Nel laboratorio di oggi implementeremo la struttura dati Max-Heap e l'algoritmo di ordinamento Heapsort, che sfrutta la struttura dati appena descritta."
   ]
  },
  {
   "cell_type": "code",
   "execution_count": 1,
   "metadata": {},
   "outputs": [],
   "source": [
    "import numpy as np\n",
    "import matplotlib.pyplot as plt"
   ]
  },
  {
   "cell_type": "code",
   "execution_count": 52,
   "metadata": {},
   "outputs": [],
   "source": [
    "class MaxHeap():\n",
    "    def __init__(self, values):\n",
    "        self._keys = values\n",
    "        self.number_of_nodes = len(values)\n",
    "        self.height = int(np.log2(self.number_of_nodes))\n",
    "        self.build_heap()\n",
    "    \n",
    "    # Notazione per figlio sinistro, destro e genitore avendo come indice di partenza 0\n",
    "    def left(self, i):\n",
    "        return 2*i + 1\n",
    "    \n",
    "    def right(self, i):\n",
    "        return 2*i + 2\n",
    "    \n",
    "    def parent(self, i):\n",
    "        return (i-1)//2\n",
    "    \n",
    "    # Razionale: ad ogni passo verifichiamo la proprietà di una max-heap, ovvero, \n",
    "    # la chiave di ciascun figlio è <= della chiave del padre. Nel caso non sia così allora:\n",
    "    #   1. Trovo il figlio avente chiave maggiore;\n",
    "    #   2. Scambio il padre con il figlio avente chiave più grande;\n",
    "    #   3. Verifico se la condizione di max-heap è soddisfatta nel sottoalbero in cui ho effettuato lo scambio;\n",
    "    #       * Se vera, ho concluso l'operazione di heapify ed ho ristabilito la max-heap;\n",
    "    #       * Altrimenti, continuo dal punto 1.\n",
    "    def heapify(self, i):\n",
    "        L = self.left(i)\n",
    "        R = self.right(i)\n",
    "        largest = i\n",
    "        if L < self.number_of_nodes and self._keys[L] > self._keys[largest]:\n",
    "            largest = L\n",
    "        if R < self.number_of_nodes and self._keys[R] > self._keys[largest]:\n",
    "            largest = R\n",
    "        if largest != i:\n",
    "            tmp = self._keys[i]\n",
    "            self._keys[i] = self._keys[largest]\n",
    "            self._keys[largest] = tmp\n",
    "            #### Be pythonic :) \n",
    "            #### Metodo molto utile per fare uno swap senza aggiungere alcuna variabile ausiliaria \"tmp\"\n",
    "            # self._keys[i], self._keys[largest] = self._keys[largest], self._keys[i]  \n",
    "            self.heapify(largest)\n",
    "        return self._keys\n",
    "    \n",
    "    def build_heap(self):\n",
    "        for i in range(self.number_of_nodes//2, -1, -1):\n",
    "            print(self, '\\n', self._keys, '\\n\\n')\n",
    "            self.heapify(i)\n",
    "        return self._keys\n",
    "    \n",
    "    def heapsort(self):\n",
    "        for i in range(self.number_of_nodes -1, 0, -1):\n",
    "            self._keys[i], self._keys[0] = self._keys[0], self._keys[i]  # swap root with last element\n",
    "            self.number_of_nodes = self.number_of_nodes - 1\n",
    "            self.heapify(0) # heapify root\n",
    "\n",
    "        return self._keys\n",
    "   \n",
    "    def __repr__(self):\n",
    "        bt_str = 'Heap:\\n'\n",
    "        for i in range(self.height+1):\n",
    "            bt_str += '    ' * (2**(self.height-i)-1)  # Indentation\n",
    "            for j in range(2**i):  # Nodes in the current level\n",
    "                index = 2**i + j - 1\n",
    "                if index < len(self._keys):\n",
    "                    bt_str += '[{}]'.format(str(self._keys[index]).zfill(2)) \n",
    "                if j < 2**i - 1:\n",
    "                    bt_str += '    ' * (2**(self.height - i + 1) - 1) # Space between nodes\n",
    "            bt_str += '\\n'\n",
    "        return bt_str"
   ]
  },
  {
   "cell_type": "code",
   "execution_count": 57,
   "metadata": {},
   "outputs": [
    {
     "name": "stdout",
     "output_type": "stream",
     "text": [
      "[24, 3, 0, 56, 88, 12, 3, 19, 7, 48, 112]\n"
     ]
    }
   ],
   "source": [
    "A = [24, 3, 0, 56, 88, 12, 3, 19, 7, 48, 112]\n",
    "print(A)"
   ]
  },
  {
   "cell_type": "code",
   "execution_count": 58,
   "metadata": {},
   "outputs": [
    {
     "name": "stdout",
     "output_type": "stream",
     "text": [
      "Heap:\n",
      "                            [24]\n",
      "            [03]                            [00]\n",
      "    [56]            [88]            [12]            [03]\n",
      "[19]    [07]    [48]    [112]                \n",
      " \n",
      " [24, 3, 0, 56, 88, 12, 3, 19, 7, 48, 112] \n",
      "\n",
      "\n",
      "Heap:\n",
      "                            [24]\n",
      "            [03]                            [00]\n",
      "    [56]            [88]            [12]            [03]\n",
      "[19]    [07]    [48]    [112]                \n",
      " \n",
      " [24, 3, 0, 56, 88, 12, 3, 19, 7, 48, 112] \n",
      "\n",
      "\n",
      "Heap:\n",
      "                            [24]\n",
      "            [03]                            [00]\n",
      "    [56]            [112]            [12]            [03]\n",
      "[19]    [07]    [48]    [88]                \n",
      " \n",
      " [24, 3, 0, 56, 112, 12, 3, 19, 7, 48, 88] \n",
      "\n",
      "\n",
      "Heap:\n",
      "                            [24]\n",
      "            [03]                            [00]\n",
      "    [56]            [112]            [12]            [03]\n",
      "[19]    [07]    [48]    [88]                \n",
      " \n",
      " [24, 3, 0, 56, 112, 12, 3, 19, 7, 48, 88] \n",
      "\n",
      "\n",
      "Heap:\n",
      "                            [24]\n",
      "            [03]                            [12]\n",
      "    [56]            [112]            [00]            [03]\n",
      "[19]    [07]    [48]    [88]                \n",
      " \n",
      " [24, 3, 12, 56, 112, 0, 3, 19, 7, 48, 88] \n",
      "\n",
      "\n",
      "Heap:\n",
      "                            [24]\n",
      "            [112]                            [12]\n",
      "    [56]            [88]            [00]            [03]\n",
      "[19]    [07]    [48]    [03]                \n",
      " \n",
      " [24, 112, 12, 56, 88, 0, 3, 19, 7, 48, 3] \n",
      "\n",
      "\n",
      "Heap:\n",
      "                            [112]\n",
      "            [88]                            [12]\n",
      "    [56]            [48]            [00]            [03]\n",
      "[19]    [07]    [24]    [03]                \n",
      "\n"
     ]
    }
   ],
   "source": [
    "tree = MaxHeap(A)   \n",
    "print(tree)"
   ]
  },
  {
   "cell_type": "code",
   "execution_count": 236,
   "metadata": {},
   "outputs": [
    {
     "name": "stdout",
     "output_type": "stream",
     "text": [
      "[0, 3, 3, 7, 12, 19, 24, 48, 56, 88, 112]\n"
     ]
    }
   ],
   "source": [
    "oredered_array = tree.heapsort()\n",
    "print(oredered_array)"
   ]
  },
  {
   "cell_type": "code",
   "execution_count": 237,
   "metadata": {},
   "outputs": [
    {
     "name": "stdout",
     "output_type": "stream",
     "text": [
      "Heap:\n",
      "                            [0]\n",
      "            [3]                            [3]\n",
      "    [7]            [12]            [19]            [24]\n",
      "[48]    [56]    [88]    [112]                \n",
      "\n"
     ]
    }
   ],
   "source": [
    "# now plot the tree\n",
    "print(tree)"
   ]
  }
 ],
 "metadata": {
  "kernelspec": {
   "display_name": "py39",
   "language": "python",
   "name": "python3"
  },
  "language_info": {
   "codemirror_mode": {
    "name": "ipython",
    "version": 3
   },
   "file_extension": ".py",
   "mimetype": "text/x-python",
   "name": "python",
   "nbconvert_exporter": "python",
   "pygments_lexer": "ipython3",
   "version": "3.9.18"
  }
 },
 "nbformat": 4,
 "nbformat_minor": 2
}
