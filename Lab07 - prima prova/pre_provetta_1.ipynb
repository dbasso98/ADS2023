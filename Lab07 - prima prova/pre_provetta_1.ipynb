{
 "cells": [
  {
   "cell_type": "markdown",
   "metadata": {},
   "source": [
    "## Domande preliminari \n",
    "(semplice verifica di conoscenze di teoria)\n",
    "\n",
    "Esempio:\n",
    "1) Qual è la complessità computazionale di Quicksort nel caso peggiore?\n",
    "2) Qual è il lower bound computazionale per gli algoritmi di ordinamento basati sul confronto?\n",
    "3) Quale algoritmo di ordinamento basato sul confronto lavora in tempo lineare nel caso di un array già ordinato?"
   ]
  },
  {
   "cell_type": "markdown",
   "metadata": {},
   "source": [
    "## Esercizio 1\n",
    "Scrivere un algoritmo il cui costo computazionale $T(n)$ sia dato dalla seguente relazione di ricorrenza: \n",
    "\n",
    " $$T(n) = \\begin{cases} \n",
    "        O(1) & \\text{if } n \\leq 10 \\\\\n",
    "        n \\cdot T(n-1) + O(1)  & \\text{otherwise}\n",
    "        \\end{cases} $$\n",
    "\n",
    "Risolvere l'equazione di ricorrenza mediante il metodo della sostituzione."
   ]
  },
  {
   "cell_type": "markdown",
   "metadata": {},
   "source": [
    "## Esercizio 2\n",
    "\n",
    "Risolvere le seguenti relazioni di ricorrenza: \n",
    "\n",
    " $$T(n) = \\begin{cases} \n",
    "        O(1) & \\text{if } n \\leq k \\\\\n",
    "         T(n/3) + T(n/4) + O(n)  & \\text{otherwise}\n",
    "        \\end{cases} $$\n",
    "\n"
   ]
  },
  {
   "cell_type": "markdown",
   "metadata": {},
   "source": [
    "## Esercizio 3\n",
    "\n",
    "Si consideri il seguente algoritmo ricorsivo che accetta in input un intero `n ≥ 0`:\n",
    "\n",
    "```\n",
    "function( int n ) → int\n",
    "    if ( n > 1 ) then\n",
    "        int a := 0;\n",
    "        for i:=1 to n-1\n",
    "            for j:=i+1 to n do\n",
    "                a := a + 2 * (i + j);\n",
    "            endfor\n",
    "        endfor\n",
    "        for i := 1 to 16 do\n",
    "            a := a + function(n/4);\n",
    "        endfor\n",
    "        return a;\n",
    "    else\n",
    "        return n-1;\n",
    "    endif\n",
    "```\n",
    "\n",
    "Scrivere la relazione di ricorrenza e determinare il costo computazionale $T(n)$ dell'algoritmo, in funzione del parametro n.\n"
   ]
  },
  {
   "cell_type": "markdown",
   "metadata": {},
   "source": [
    "\n",
    "## Esercizio 4\n",
    "\n",
    "Si consideri il seguente algoritmo ricorsivo:\n",
    "\n",
    "```\n",
    "function( int A [], int i, int j) → int\n",
    "    int k ← ⌊(j - i + 1)/3⌋\n",
    "    int m ← 0\n",
    "\n",
    "    for int l ← 0 to 3k-1 do\n",
    "        m ← m + A[l]\n",
    "        \n",
    "    if k > 3:\n",
    "        return m*function(A, i, i+k) + function(A, j-k, j)\n",
    "    else:\n",
    "        return m\n",
    "```\n",
    "\n",
    "Scrivere la relazione di ricorrenza e determinare il costo computazionale $T(n)$ dell'algoritmo, in funzione del parametro n, chiamata con $i=1$ e $j=n$.\n",
    "\n",
    "\n",
    "La versione riportata sopra è:\n",
    "\n",
    "$$T(n) = \\begin{cases} \n",
    "        d & \\text{if } n \\leq 3 \\\\\n",
    "        2T(n/3) + O(n)  & \\text{otherwise}\n",
    "        \\end{cases} $$\n",
    "\n",
    "\n"
   ]
  },
  {
   "cell_type": "markdown",
   "metadata": {},
   "source": [
    "\n",
    "\n",
    "Mentre una versione per la complessità che abbiamo visto in classe e che era nell'homework, ovvero:\n",
    "\n",
    "$$T(n) = \\begin{cases} \n",
    "        d & \\text{if } n \\leq 3 \\\\\n",
    "        T(n/3) + T(2n/3) + O(n)  & \\text{otherwise}\n",
    "        \\end{cases} $$\n",
    "\n",
    "è la seguente:\n",
    "\n",
    "```\n",
    "function( int A [], int i, int j) → int\n",
    "    int k ← ⌊(j - i + 1)/3⌋\n",
    "    int m ← 0\n",
    "\n",
    "    for int l ← 0 to 3k-1 do\n",
    "        m ← m + A[l]\n",
    "        \n",
    "    if k > 3:\n",
    "        return m*function(A, i, i+k) + function(A, i+k+1, j)\n",
    "    else:\n",
    "        return m\n",
    "```\n"
   ]
  },
  {
   "cell_type": "markdown",
   "metadata": {},
   "source": [
    "## Problemi"
   ]
  },
  {
   "cell_type": "markdown",
   "metadata": {},
   "source": [
    "1. Si consideri un albero binario $B$ in cui a ciascun nodo $t$ è associata una chiave numerica (reale) $t.key$. Non ci sono chiavi ripetute, e tutte le chiavi appartengono all'intervallo $[a, b]$.\n",
    "    * Scrivere un algoritmo efficiente che dato in input l'albero $B$ e gli estremi $a$ e $b$, restituisce $true$ se e solo se $B$ rappresenta un albero binario di ricerca. Non è consentito usare variabili globali.\n",
    "    * Calcolare il costo computazionale nel caso ottimo e nel caso pessimo dell'algoritmo definito al punto precedente."
   ]
  },
  {
   "cell_type": "markdown",
   "metadata": {},
   "source": [
    "2. Sono dati due array di interi, $nums1$ e $nums2$, ordinati in ordine **non decrescente**, e due interi $m$ e $n$, che rappresentano il numero di elementi in $nums1$ e $nums2$, rispettivamente.\n",
    "   * Unire $nums1$ e $nums2$ in un singolo array ordinato in ordine **non decrescente**.\n",
    "  \n",
    "    **N.B**: L'array ordinato finale non dovrebbe essere restituito dalla funzione, ma invece essere memorizzato all'interno dell'array $nums1$. Per farlo, $nums1$ ha una lunghezza di $m + n$, dove i primi $m$ elementi denotano gli elementi che dovrebbero essere uniti, e gli ultimi $n$ elementi sono impostati a $0$ e dovrebbero essere ignorati. $nums2$ ha una lunghezza di $n$."
   ]
  },
  {
   "cell_type": "markdown",
   "metadata": {},
   "source": []
  }
 ],
 "metadata": {
  "kernelspec": {
   "display_name": "Python 3",
   "language": "python",
   "name": "python3"
  },
  "language_info": {
   "codemirror_mode": {
    "name": "ipython",
    "version": 3
   },
   "file_extension": ".py",
   "mimetype": "text/x-python",
   "name": "python",
   "nbconvert_exporter": "python",
   "pygments_lexer": "ipython3",
   "version": "3.11.4"
  }
 },
 "nbformat": 4,
 "nbformat_minor": 2
}
