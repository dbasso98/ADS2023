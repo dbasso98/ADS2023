{
 "cells": [
  {
   "cell_type": "markdown",
   "metadata": {},
   "source": [
    "## Domande preliminari \n",
    "(semplice verifica di conoscenze di teoria)\n",
    "\n",
    "Esempio:\n",
    "1) Qual è la complessità computazionale di Quicksort nel caso peggiore?\n",
    "2) Qual è il lower bound computazionale per gli algoritmi di ordinamento basati sul confronto?\n",
    "3) Quale algoritmo di ordinamento basato sul confronto lavora in tempo lineare nel caso di un array già ordinato?"
   ]
  },
  {
   "cell_type": "markdown",
   "metadata": {},
   "source": [
    "## Esercizio 1\n",
    "Scrivere un algoritmo il cui costo computazionale $T(n)$ sia dato dalla seguente relazione di ricorrenza: \n",
    "\n",
    " $$T(n) = \\begin{cases} \n",
    "        O(1) & \\text{if } n \\leq 10 \\\\\n",
    "        n \\cdot T(n-1) + O(1)  & \\text{otherwise}\n",
    "        \\end{cases} $$\n",
    "\n",
    "Risolvere l'equazione di ricorrenza mediante il metodo della sostituzione."
   ]
  },
  {
   "cell_type": "markdown",
   "metadata": {},
   "source": [
    "## Esercizio 2\n",
    "\n",
    "Risolvere le seguenti relazioni di ricorrenza: \n",
    "\n",
    " $$T(n) = \\begin{cases} \n",
    "        O(1) & \\text{if } n \\leq k \\\\\n",
    "         T(n/3) + T(n/4) + O(n)  & \\text{otherwise}\n",
    "        \\end{cases} $$\n",
    "\n"
   ]
  },
  {
   "cell_type": "markdown",
   "metadata": {},
   "source": [
    "## Esercizio 3\n",
    "\n",
    "Si consideri il seguente algoritmo ricorsivo che accetta in input un intero `n ≥ 0`:\n",
    "\n",
    "```\n",
    "function( int n ) → int\n",
    "    if ( n > 1 ) then\n",
    "        int a := 0;\n",
    "        for i:=1 to n-1\n",
    "            for j:=i+1 to n do\n",
    "                a := a + 2 * (i + j);\n",
    "            endfor\n",
    "        endfor\n",
    "        for i := 1 to 16 do\n",
    "            a := a + function(n/4);\n",
    "        endfor\n",
    "        return a;\n",
    "    else\n",
    "        return n-1;\n",
    "    endif\n",
    "```\n",
    "\n",
    "Scrivere la relazione di ricorrenza e determinare il costo computazionale $T(n)$ dell'algoritmo, in funzione del parametro n.\n"
   ]
  },
  {
   "cell_type": "markdown",
   "metadata": {},
   "source": [
    "## Esercizio 4\n",
    "\n",
    "Si consideri il seguente algoritmo ricorsivo:\n",
    "\n",
    "```\n",
    "function( int A [], int i, int j) → int\n",
    "    int k ← ⌊(j - i + 1)/3⌋\n",
    "    int m ← 0\n",
    "\n",
    "    for int l ← 0 to 3k-1 do\n",
    "        m ← m + A[l]\n",
    "    \n",
    "    return m*function(A, i, i+k) + function(A, j-k, j)\n",
    "```\n",
    "\n",
    "Scrivere la relazione di ricorrenza e determinare il costo computazionale $T(n)$ dell'algoritmo, in funzione del parametro n, chiamata con $i=1$ e $j=n$."
   ]
  }
 ],
 "metadata": {
  "kernelspec": {
   "display_name": "Python 3",
   "language": "python",
   "name": "python3"
  },
  "language_info": {
   "codemirror_mode": {
    "name": "ipython",
    "version": 3
   },
   "file_extension": ".py",
   "mimetype": "text/x-python",
   "name": "python",
   "nbconvert_exporter": "python",
   "pygments_lexer": "ipython3",
   "version": "3.11.4"
  }
 },
 "nbformat": 4,
 "nbformat_minor": 2
}
