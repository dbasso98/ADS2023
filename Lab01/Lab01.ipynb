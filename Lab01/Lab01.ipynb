{
 "cells": [
  {
   "cell_type": "markdown",
   "metadata": {},
   "source": [
    "## Laboratorio 1 \n",
    "\n",
    "### Ordini di grandezza\n",
    "\n",
    "1. Mostrare che $4n^2 + 4n - 1$ è $O(n^2)$ e anche $\\Omega(n^2)$.\n",
    "\n",
    "\n",
    "2. Ordinare le seguenti funzioni per ordine di grandezza crescente:\n",
    "\n",
    "$$log_2\\ n, 3^{n-2}, \\pi^n, n^3 - 3n^2, n^{log\\ n}, log_n\\ n, n^{1/2}, 18$$\n",
    "\n",
    "3. Le costanti moltiplicative sono sempre trascurabili in pratica? Come e quando diventano rilevanti? Provare a rispondere con un esempio.\n",
    "\n",
    "4. Dimostrare che tutti i polinomi crescono meno delle funzioni esponenziali, ovvero che $n^k$ è $O(a^n)$ per ogni $k > 0$ e $a > 1$.\n",
    "\n",
    "\n",
    "5. Fornire il costo computazionale del seguente pseudocodice, utilizzando le proprietà degli ordini di grandezza:\n",
    "\n",
    "``` python \n",
    "def loop(n):\n",
    "    for i in range(n):\n",
    "        # do something which requires O(f(n))\n",
    "    for i in range(n):\n",
    "        for j in range(m):\n",
    "            # do something which requires O(g(n))\n",
    "    for i in range(n):\n",
    "        for j in range(m):\n",
    "            for k in range(l):\n",
    "                # sum all elements of the array [1,2,3,4,5] and add l to the final result\n",
    "```\n",
    "\n"
   ]
  },
  {
   "cell_type": "markdown",
   "metadata": {},
   "source": [
    "\n",
    "### Costo uniforme e costo logaritmico\n",
    "\n",
    "1. Scrivere il codice Python per le due funzioni presenti alla fine della lezione 1 (*find_max* e *test*).\n",
    "2. Calcolare la complessità delle due funzioni sia in termini di costo uniforme che di costo logaritmico (*hint*: esiste una funzione Python che vi ritorna lo spazio occupato da un oggetto)\n",
    "3. Calcolare il costo uniforme e il costo logaritmico delle due funzioni al variare della dimensione dell'input.\n",
    "4. Plottare i risultati in funzione della dimensione dell'input (utilizzare per entrambe le funzioni un range di valori opportuno) e confrontarli con i risultati teorici.\n",
    "5. Utilizzare il magic command ```%timeit``` per avere una stima concreta delle tempistiche di ciascuna delle funzioni utilizzate. Documentazione: https://ipython.readthedocs.io/en/stable/interactive/magics.html#magic-timeit\n",
    "6. Commentare i risultati."
   ]
  },
  {
   "cell_type": "markdown",
   "metadata": {},
   "source": [
    "### Scalabilità\n",
    "\n",
    "1. Implementare la funzione che calcola il massimo comune divisore tra due numeri interi positivi, sia utilizzando l'algoritmo naive che l'algoritmo di Euclide.\n",
    "2. Stimare il costo uniforme dei due algoritmi e plottare il risultato in funzione della dimensione dell'input.\n",
    "3. Confrontare i risultati ottenuti con i tempi di esecuzione di ciascuna funzione."
   ]
  }
 ],
 "metadata": {
  "kernelspec": {
   "display_name": "py39",
   "language": "python",
   "name": "python3"
  },
  "language_info": {
   "codemirror_mode": {
    "name": "ipython",
    "version": 3
   },
   "file_extension": ".py",
   "mimetype": "text/x-python",
   "name": "python",
   "nbconvert_exporter": "python",
   "pygments_lexer": "ipython3",
   "version": "3.9.18"
  },
  "orig_nbformat": 4
 },
 "nbformat": 4,
 "nbformat_minor": 2
}
