{
 "cells": [
  {
   "cell_type": "markdown",
   "metadata": {},
   "source": [
    "# Laboratorio 6\n",
    "\n",
    "## Strutture dati Elementari\n",
    "\n",
    "## Code\n",
    "\n",
    "Le code sono strutture dati elementari che permettono di memorizzare elementi in ordine di inserimento e di rimuoverli in ordine di inserimento. Le code sono strutture dati di tipo FIFO (First In First Out), ovvero il primo elemento inserito è il primo ad essere rimosso. Sono strutture dati importanti alla base di molti algoritmi per la gestione di strutture dati più complesse, come i grafi.\n",
    "\n",
    "\n",
    "* Che cosa possiamo utilizzare per implementare una coda?\n",
    "\n",
    "\n",
    "### Implementazione con una lista\n",
    "\n",
    "**Operazioni base**\n",
    "\n",
    "1. _enqueue(v)_ inserisce il valore v nella coda \n",
    "2. _dequeue()_ rimuove dalla coda il valore in testa e lo restituisce \n",
    "3. _head()_ restituisce il valore in testa alla coda senza rimuoverlo dalla stessa\n",
    "4. _is\\_empty()_ restituisce true se e solo se la coda è vuota \n",
    "\n",
    "### Implementazione con un array circolare\n",
    "\n",
    "**Operazioni base**\n",
    "\n",
    "1. _enqueue(v)_ inserisce il valore v nella coda \n",
    "2. _dequeue()_ rimuove dalla coda il valore in testa e lo restituisce \n",
    "3. _head()_ restituisce il valore in testa alla coda senza rimuoverlo dalla stessa \n",
    "4. _is\\_empty()_ restituisce true se e solo se la coda è vuota \n",
    "\n",
    "\n",
    "* Quindi qual è la differenza tra le due implementazioni? Quali sono i vantaggi e gli svantaggi di ciascuna?\n",
    "\n",
    "\n",
    "Scrivere lo pseudocodice delle funzioni _enqueue(v)_, _dequeue()_, _head()_ e _is\\_empty()_ per la coda implementata con un array circolare.\n"
   ]
  },
  {
   "cell_type": "markdown",
   "metadata": {},
   "source": [
    "## Pile\n",
    "\n",
    "Le pile sono una struttura dati di tipo LIFO (Last In First Out), cioè l'ultimo elemento inserito è il primo ad essere rimosso. In altre parole, inserendo degli elementi nella pila, questi vengono impilati uno sopra l'altro, e per rimuovere un elemento è necessario rimuovere prima tutti quelli che si trovano sopra di esso.\n",
    "\n",
    "Le operazioni di base su una pila sono:\n",
    "\n",
    "1. **Push** - Permette di inserire un elemento in cima alla pila. \n",
    "2. **Pop** - Permette di rimuovere l'elemento in cima alla pila.\n",
    "3. **Top** - Restituisce l'elemento in cima alla pila senza rimuoverlo.\n",
    "4. **Size** - Restituisce il numero di elementi presenti nella pila.\n",
    "5. **IsEmpty** - Restituisce un valore booleano che indica se la pila è vuota o meno.\n",
    "\n",
    "Scrivere lo pseudocodice per implementare le operazioni di base di una pila."
   ]
  },
  {
   "cell_type": "markdown",
   "metadata": {},
   "source": [
    "**N.B.** Possono sembrare superflue, ma queste strutture dati sono la base di tantissime applicazioni e algoritmi: \n",
    "- *Code*: Algoritmo di Dijkstra, Algoritmo di ricerca in ampiezza (BFS)\n",
    "- *Pile*: Esecuzione di funzioni, esecuzione ricorsiva di funzioni, navigazione web (come facciamo a tornare al sito visitato in precedenza sennò? &#x1F60F;)"
   ]
  },
  {
   "cell_type": "markdown",
   "metadata": {},
   "source": [
    "```python\n",
    "class Pila:\n",
    "    def __init__(self):\n",
    "        self.items = []\n",
    "\n",
    "    def push(self, item):\n",
    "        self.items.append(item)\n",
    "\n",
    "    def pop(self):\n",
    "        return self.items.pop()\n",
    "\n",
    "    def top(self):\n",
    "        return self.items[-1]\n",
    "\n",
    "    def size(self):\n",
    "        return len(self.items)\n",
    "\n",
    "    def isEmpty(self):\n",
    "        return len(self.items) == 0\n",
    "```"
   ]
  },
  {
   "cell_type": "markdown",
   "metadata": {},
   "source": [
    "## Alberi Binari di Ricerca\n",
    "\n",
    "Gli alberi binari di ricerca sono strutture dati che permettono di memorizzare dati in modo efficiente, in modo da potervi accedere velocemente poiché dei valori (delle chiavi) è totalmente ordinato.\n",
    "\n",
    "Essi costituisticono una delle CDT che vedrete per l'implementazione dei dizionari. Pertanto, devono garantire le seguenti operazioni:\n",
    "\n",
    "1. Inserimento di un elemento\n",
    "2. Ricerca di un elemento\n",
    "3. Cancellazione di un elemento\n",
    "\n",
    "Come avviene l'inserimento di un nodo? Come avviene la ricerca di un nodo?\n",
    "\n",
    "Scrivere lo pseudocodice della funzione per la rimozione di un elemento da un albero binario di ricerca."
   ]
  },
  {
   "cell_type": "code",
   "execution_count": null,
   "metadata": {},
   "outputs": [],
   "source": [
    "from copy import deepcopy\n",
    "import sys"
   ]
  },
  {
   "cell_type": "code",
   "execution_count": 5,
   "metadata": {},
   "outputs": [],
   "source": [
    "class Node:\n",
    "    def __init__(self, data: int):\n",
    "        self.data = data\n",
    "        self.left : Node = None\n",
    "        self.right : Node = None\n",
    "        self.parent : Node = None\n",
    "\n",
    "class BST:\n",
    "    def __init__(self):\n",
    "        self.root = None\n",
    "\n",
    "    def insert(self, key: int, node: Node = None):\n",
    "\n",
    "        if self.root is None:\n",
    "            self.root = Node(key)\n",
    "            return\n",
    "        \n",
    "        if node is None:\n",
    "            node = self.root\n",
    "            \n",
    "        if node.data > key:\n",
    "            if node.left is None:\n",
    "                new_node = Node(key)\n",
    "                node.left = new_node\n",
    "                new_node.parent = node\n",
    "            else:\n",
    "                self.insert(key, node.left)\n",
    "        else:\n",
    "            if node.right is None:\n",
    "                new_node = Node(key)\n",
    "                node.right = new_node\n",
    "                new_node.parent = node  \n",
    "            else:\n",
    "                self.insert(key, node.right)\n",
    "    \n",
    "    def search(self, key: int, node: Node = None):\n",
    "        \"\"\"\n",
    "        input: key associated with a node\n",
    "        output: the node if found, None otherwise\n",
    "        \"\"\"\n",
    "        if self.root is None:\n",
    "            print(\"Tree is empty\", file=sys.stderr)\n",
    "            return None\n",
    "        else:\n",
    "            if node is None:\n",
    "                node = self.root\n",
    "\n",
    "            if node.data == key:\n",
    "                return node\n",
    "            else:\n",
    "                if node.data > key:\n",
    "                    if node.left is None:\n",
    "                        print(\"Key not found\", file=sys.stderr)\n",
    "                        return None\n",
    "                    else:\n",
    "                        return self.search(key, node.left)\n",
    "                else:\n",
    "                    if node.right is None:\n",
    "                        print(\"Key not found\", file=sys.stderr)\n",
    "                        return None\n",
    "                    else:\n",
    "                        return self.search(key, node.right)\n",
    "\n",
    "    def get_min(self, node: Node):\n",
    "        if node is None:\n",
    "            return None\n",
    "        while node.left is not None:\n",
    "            node = node.left\n",
    "        return node\n",
    "    \n",
    "    def successor(self, node: Node):\n",
    "        if node.right is not None:\n",
    "            return self.get_min(node.right)\n",
    "        x = node\n",
    "        y = node.parent\n",
    "        while y is not None and x == y.right:\n",
    "            x = y\n",
    "            y = y.parent\n",
    "        return y\n",
    "    \n",
    "\n",
    "    def delete(self, node: Node):\n",
    "        if node is None:\n",
    "            return\n",
    "        \n",
    "        # if node has no children\n",
    "        if node.left is None and node.right is None:\n",
    "            if node.parent is None:\n",
    "                self.root = None\n",
    "            elif node.parent.left == node:\n",
    "                node.parent.left = None\n",
    "            else:\n",
    "                node.parent.right = None\n",
    "            return\n",
    "        \n",
    "        # if node has one child\n",
    "        elif node.left is None or node.right is None:\n",
    "            if node.left is None:\n",
    "                child = node.right\n",
    "            else:\n",
    "                child = node.left\n",
    "            if node.parent is None:\n",
    "                self.root = child\n",
    "            elif node.parent.left == node:\n",
    "                node.parent.left = child\n",
    "            else:\n",
    "                node.parent.right = child\n",
    "            return \n",
    "        \n",
    "        else:\n",
    "            # if node has two children\n",
    "            next_node = self.successor(node)\n",
    "            # swap node and next_node\n",
    "            node.data, next_node.data = next_node.data, node.data\n",
    "            \n",
    "            # delete next_node\n",
    "            self.delete(next_node)\n",
    "       \n",
    "    \n",
    "    def inorder(self, node: Node):\n",
    "        if node is not None:\n",
    "            self.inorder(node.left)\n",
    "            print(node.data)\n",
    "            self.inorder(node.right)\n",
    "\n",
    "    def __repr__(self):\n",
    "        \"\"\"\n",
    "        Print the tree using inorder traversal\n",
    "        \"\"\"\n",
    "        if self.root is None:\n",
    "            return \"Tree is empty\"\n",
    "        else:\n",
    "            self.inorder(self.root)\n",
    "            return \"\"\n",
    "\n"
   ]
  },
  {
   "cell_type": "code",
   "execution_count": 51,
   "metadata": {},
   "outputs": [
    {
     "name": "stdout",
     "output_type": "stream",
     "text": [
      "3\n",
      "5\n",
      "7\n",
      "10\n",
      "12\n",
      "15\n",
      "17\n",
      "\n"
     ]
    }
   ],
   "source": [
    "binary_tree = BST()\n",
    "binary_tree.insert(10)\n",
    "binary_tree.insert(5)\n",
    "binary_tree.insert(15)\n",
    "binary_tree.insert(3)\n",
    "binary_tree.insert(7)\n",
    "binary_tree.insert(12)\n",
    "binary_tree.insert(17)\n",
    "\n",
    "print(binary_tree)"
   ]
  },
  {
   "cell_type": "code",
   "execution_count": 52,
   "metadata": {},
   "outputs": [],
   "source": [
    "def nice_tree_print(node: Node, space=0, offset=5):\n",
    "    if node is None:\n",
    "        return\n",
    "\n",
    "    space += offset\n",
    "\n",
    "    nice_tree_print(node.right, space)\n",
    "\n",
    "    print(end=' ' * (space - offset))\n",
    "    print(node.data)\n",
    "\n",
    "    nice_tree_print(node.left, space)"
   ]
  },
  {
   "cell_type": "code",
   "execution_count": 53,
   "metadata": {},
   "outputs": [
    {
     "name": "stdout",
     "output_type": "stream",
     "text": [
      "          17\n",
      "     15\n",
      "          12\n",
      "10\n",
      "          7\n",
      "     5\n",
      "          3\n"
     ]
    }
   ],
   "source": [
    "nice_tree_print(binary_tree.root)"
   ]
  },
  {
   "cell_type": "code",
   "execution_count": 54,
   "metadata": {},
   "outputs": [],
   "source": [
    "binary_tree.delete(binary_tree.search(10))"
   ]
  },
  {
   "cell_type": "code",
   "execution_count": 55,
   "metadata": {},
   "outputs": [
    {
     "name": "stdout",
     "output_type": "stream",
     "text": [
      "3\n",
      "5\n",
      "7\n",
      "12\n",
      "15\n",
      "17\n"
     ]
    },
    {
     "data": {
      "text/plain": []
     },
     "execution_count": 55,
     "metadata": {},
     "output_type": "execute_result"
    }
   ],
   "source": [
    "binary_tree"
   ]
  },
  {
   "cell_type": "code",
   "execution_count": 56,
   "metadata": {},
   "outputs": [
    {
     "name": "stdout",
     "output_type": "stream",
     "text": [
      "          17\n",
      "     15\n",
      "12\n",
      "          7\n",
      "     5\n",
      "          3\n"
     ]
    }
   ],
   "source": [
    "nice_tree_print(binary_tree.root)"
   ]
  },
  {
   "cell_type": "code",
   "execution_count": 83,
   "metadata": {},
   "outputs": [],
   "source": [
    "unbalanced_binary_tree = BST()\n",
    "for i in range(10, -1, -1):\n",
    "    unbalanced_binary_tree.insert(i)"
   ]
  },
  {
   "cell_type": "code",
   "execution_count": 84,
   "metadata": {},
   "outputs": [
    {
     "name": "stdout",
     "output_type": "stream",
     "text": [
      "10\n",
      "     9\n",
      "          8\n",
      "               7\n",
      "                    6\n",
      "                         5\n",
      "                              4\n",
      "                                   3\n",
      "                                        2\n",
      "                                             1\n",
      "                                                  0\n"
     ]
    }
   ],
   "source": [
    "nice_tree_print(unbalanced_binary_tree.root)"
   ]
  },
  {
   "cell_type": "markdown",
   "metadata": {},
   "source": [
    "Come potete vedere, non sempre l'altezza dell'albero gioca a nostro vantaggio (sapendo che le operazioni precedentemente descritte hanno una complessità dipendente da $O(h)$). Per questo motivo ha senso studiare delle strutture dati che ci portino, mediante alcuni passaggi, ad avere un albero perlopiù bilanciato. "
   ]
  },
  {
   "cell_type": "markdown",
   "metadata": {},
   "source": [
    "## Splay Trees\n",
    "\n",
    "Gli Splay Trees sono appunto una struttura dati di tipo albero binario di ricerca auto-bilanciante.\n",
    "\n",
    "### Operazioni di base\n",
    "\n",
    "Le operazioni di base che possono essere eseguite su uno Splay Tree sono:\n",
    "1. Ricerca\n",
    "2. Inserimento\n",
    "3. Rimozione\n",
    "4. Bilanciamento\n",
    "\n",
    "*N.B.* Le prime tre avvengono come in un BST.\n",
    "\n",
    "### Bilanciamento\n",
    "\n",
    "Il bilanciamento in uno Splay Tree avviene tramite una serie di rotazioni. L'algoritmo di bilanciamento si applica in seguito a ogni operazione di modifica dell'albero (inserimento, cancellazione) o di ricerca. L'idea è quella di portare il nodo modificato (o cercato) in cima all'albero, tramite una serie di rotazioni. In questo modo si riduce la profondità del nodo e si migliora l'efficienza delle operazioni future."
   ]
  },
  {
   "cell_type": "code",
   "execution_count": 85,
   "metadata": {},
   "outputs": [],
   "source": [
    "def splay(node: Node, value):\n",
    "    if node is None or node.data == value:\n",
    "        return node\n",
    "\n",
    "    if value < node.data:\n",
    "        if node.left is None:\n",
    "            return node\n",
    "        # Caso ZIG-ZIG\n",
    "        if value < node.left.data:\n",
    "            node.left.left = splay(node.left.left, value)\n",
    "            node = rotate_right(node)\n",
    "        # Caso ZIG-ZAG\n",
    "        elif value > node.left.data:\n",
    "            node.left.right = splay(node.left.right, value)\n",
    "            if node.left.right is not None:\n",
    "                node.left = rotate_left(node.left)\n",
    "        # Caso ZIG\n",
    "        if node.left is not None:\n",
    "            node = rotate_right(node)\n",
    "        return node\n",
    "    else:\n",
    "        # Speculare dei casi precedenti\n",
    "        if node.right is None:\n",
    "            return node\n",
    "        if value < node.right.data:\n",
    "            node.right.left = splay(node.right.left, value)\n",
    "            if node.right.left is not None:\n",
    "                node.right = rotate_right(node.right)\n",
    "        elif value > node.right.data:\n",
    "            node.right.right = splay(node.right.right, value)\n",
    "            node = rotate_left(node)\n",
    "        if node.right is not None:\n",
    "            node = rotate_left(node)\n",
    "        return node\n",
    "\n",
    "def rotate_left(node: Node):\n",
    "    new_root = node.right\n",
    "    node.right = new_root.left\n",
    "    new_root.left = node\n",
    "    return new_root\n",
    "\n",
    "def rotate_right(node: Node):\n",
    "    new_root = node.left\n",
    "    node.left = new_root.right\n",
    "    new_root.right = node\n",
    "    return new_root"
   ]
  },
  {
   "cell_type": "code",
   "execution_count": 100,
   "metadata": {},
   "outputs": [],
   "source": [
    "balanced_bst = BST() \n",
    "balanced_bst.root = splay(node=deepcopy(unbalanced_binary_tree.root), value=4)"
   ]
  },
  {
   "cell_type": "code",
   "execution_count": 101,
   "metadata": {},
   "outputs": [
    {
     "name": "stdout",
     "output_type": "stream",
     "text": [
      "          10\n",
      "     9\n",
      "               8\n",
      "          7\n",
      "                    6\n",
      "               5\n",
      "4\n",
      "     3\n",
      "          2\n",
      "               1\n",
      "                    0\n"
     ]
    }
   ],
   "source": [
    "nice_tree_print(balanced_bst.root)"
   ]
  },
  {
   "cell_type": "markdown",
   "metadata": {},
   "source": [
    "Ora l'albero è stato bilanciato! &#x1F60C;"
   ]
  }
 ],
 "metadata": {
  "kernelspec": {
   "display_name": "py39",
   "language": "python",
   "name": "python3"
  },
  "language_info": {
   "codemirror_mode": {
    "name": "ipython",
    "version": 3
   },
   "file_extension": ".py",
   "mimetype": "text/x-python",
   "name": "python",
   "nbconvert_exporter": "python",
   "pygments_lexer": "ipython3",
   "version": "3.9.18"
  }
 },
 "nbformat": 4,
 "nbformat_minor": 2
}
