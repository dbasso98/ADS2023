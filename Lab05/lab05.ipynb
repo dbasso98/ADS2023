{
 "cells": [
  {
   "cell_type": "markdown",
   "metadata": {},
   "source": [
    "# Laboratorio 5\n",
    "## Algoritmi di ordinamento lineare"
   ]
  },
  {
   "cell_type": "markdown",
   "metadata": {},
   "source": [
    "Abbiamo visto che ogni algoritmo di ordinamento bastato sulla comparazione richiede tempo $\\Omega(nlogn)$.\n",
    "Per forza di cose dobbiamo fare affidamento ad alcuni tipi di assunzione per poter ordinare in tempo lineare."
   ]
  },
  {
   "cell_type": "markdown",
   "metadata": {},
   "source": [
    "1. Sapete quali assunzioni dobbiamo fare per ***Counting Sort***, ***Radix Sort*** e ***Bucket Sort***?"
   ]
  },
  {
   "cell_type": "markdown",
   "metadata": {},
   "source": [
    "### Counting Sort"
   ]
  },
  {
   "cell_type": "code",
   "execution_count": null,
   "metadata": {},
   "outputs": [],
   "source": [
    "def counting_sort(A: list[int], k: int):\n",
    "    \"\"\"\n",
    "    Ordina l'array A utilizzando l'algoritmo di counting sort e restituisce l'array ordinato.\n",
    "\n",
    "    Args:\n",
    "    A (list): L'array di input da ordinare.\n",
    "    k (int): Il valore massimo nell'array di input.\n",
    "\n",
    "    Returns:\n",
    "    list: L'array ordinato.\n",
    "\n",
    "    \"\"\"\n",
    "    B = [0] * k # memoria di lavoro temporanea\n",
    "    C = [0] * len(A)  # mantiene l'output ordinato\n",
    "    for i in range(0, len(A)):\n",
    "        # in un array temporaneo di dimensione pari all'intervallo di valori contiamo il numero di occorrenze \n",
    "        # di ciascun valore presente nell'array da ordinare \n",
    "        B[A[i]] += 1\n",
    "    for i in range(1, len(B)):\n",
    "        B[i] = B[i] + B[i-1]\n",
    "    for i in range(len(A)-1, -1, -1):\n",
    "        # poniamo ogni elemento di A[j] nella sua corretta posizione ordinata\n",
    "        C[B[A[i]]-1] = A[i]\n",
    "        B[A[i]] = B[A[i]] - 1\n",
    "    return C"
   ]
  },
  {
   "cell_type": "markdown",
   "metadata": {},
   "source": [
    "Complessità? $\\Theta(n + k)$.\n",
    "\n",
    "1. Perchè la complessità è $\\Theta(n + k)$? Cosa dobbiamo guardare nel codice?\n",
    "   1. I due for loop dal costo $n$ ed il singolo for loop dal costo $k$."
   ]
  },
  {
   "cell_type": "markdown",
   "metadata": {},
   "source": [
    "### Radix Sort"
   ]
  },
  {
   "cell_type": "code",
   "execution_count": 1,
   "metadata": {},
   "outputs": [],
   "source": [
    "def radix_sort(A: list[int]):\n",
    "    \"\"\"\n",
    "    Ordina l'array di input utilizzando l'algoritmo radix sort con base 10 e restituisce l'array ordinato.\n",
    "\n",
    "    Args:\n",
    "    A (list): L'array di input da ordinare.\n",
    "\n",
    "    Returns:\n",
    "    list: L'array ordinato.\n",
    "\n",
    "    \"\"\"\n",
    "    max_element = max(A)\n",
    "\n",
    "    exp = 1\n",
    "    while max_element // exp > 0:\n",
    "        counting_sort_exp(A, exp)\n",
    "        exp *= 10\n",
    "\n",
    "    return A"
   ]
  },
  {
   "cell_type": "markdown",
   "metadata": {},
   "source": [
    "3. Perché è importante che l'algoritmo che utlizziamo per ordinare le cifre in radix sort sia stabile?\n",
    "   1. Altrimenti perderemmo l'ordinamento effettuato sulle cifre precedenti.\n",
    "4. Qual è la sua complessità?\n",
    "   1. $\\Theta(dn)$ dove $d$ rappresenta il numero di cifre da ordinare"
   ]
  },
  {
   "cell_type": "markdown",
   "metadata": {},
   "source": [
    "### Bucket Sort"
   ]
  },
  {
   "cell_type": "code",
   "execution_count": 2,
   "metadata": {},
   "outputs": [],
   "source": [
    "def insertion_sort(A: list[int]):\n",
    "    \"\"\"\n",
    "    Ordina l'array A utilizzando l'algoritmo di insertion sort e restituisce l'array ordinato.\n",
    "\n",
    "    Args:\n",
    "    A (list): L'array di input da ordinare.\n",
    "\n",
    "    Returns:\n",
    "    list: L'array ordinato.\n",
    "\n",
    "    \"\"\"\n",
    "    for i in range(1, len(A)):\n",
    "        j = i\n",
    "        while j > 0 and A[j] < A[j-1]:\n",
    "            A[j], A[j-1] = A[j-1], A[j]\n",
    "            j = j - 1\n",
    "    return A"
   ]
  },
  {
   "cell_type": "code",
   "execution_count": 3,
   "metadata": {},
   "outputs": [],
   "source": [
    "def bucket_sort(A: list[float]):\n",
    "    \"\"\"\n",
    "    Ordina l'array A utilizzando l'algoritmo di bucket sort e restituisce l'array ordinato.\n",
    "\n",
    "    Args:\n",
    "    A (list): L'array di input da ordinare.\n",
    "\n",
    "    Returns:\n",
    "    list: L'array ordinato.\n",
    "\n",
    "    \"\"\"\n",
    "    n = len(A)\n",
    "    B = [[] for _ in range(n)]\n",
    "    for i in range(n):\n",
    "        bucket = int(A[i] * n)\n",
    "        B[bucket].append(A[i])\n",
    "    for i in range(n):\n",
    "        B[i] = insertion_sort(B[i])\n",
    "    C = [elem for bucket in B for elem in bucket]\n",
    "    return C"
   ]
  },
  {
   "cell_type": "markdown",
   "metadata": {},
   "source": [
    "5. Puoi spiegare perché il tempo di esecuzione nel caso peggiore per il bucket sort è $\\Theta(n^2)$? Quali semplici modifiche possiamo apportare all'algoritmo per mantenere il suo tempo di esecuzione lineare in media e per far sì che il suo tempo di esecuzione nel caso peggiore diventi  $\\Theta(nlogn)$?\n",
    "   1. Se tutte le chiavi cadono nello stesso secchio e sono in ordine inverso, dobbiamo ordinare un singolo secchio con n elementi in ordine inverso utilizzando insertion sort. Questo richiede un tempo di esecuzione Θ(n^2). \n",
    "   1. Per migliorare il tempo di esecuzione nel caso peggiore, possiamo utilizzare l'algoritmo di merge sort o heapsort al posto di insertion sort. L'algoritmo di insertion sort è stato scelto perché funziona bene con le liste collegate, ha un tempo di esecuzione ottimale e richiede solo uno spazio extra costante per le liste collegate corte. Se utilizziamo un altro algoritmo di ordinamento, dobbiamo convertire ogni lista in un array, il che potrebbe rallentare l'algoritmo nella pratica."
   ]
  },
  {
   "cell_type": "markdown",
   "metadata": {},
   "source": []
  }
 ],
 "metadata": {
  "kernelspec": {
   "display_name": "Python 3",
   "language": "python",
   "name": "python3"
  },
  "language_info": {
   "codemirror_mode": {
    "name": "ipython",
    "version": 3
   },
   "file_extension": ".py",
   "mimetype": "text/x-python",
   "name": "python",
   "nbconvert_exporter": "python",
   "pygments_lexer": "ipython3",
   "version": "3.11.4"
  }
 },
 "nbformat": 4,
 "nbformat_minor": 2
}
