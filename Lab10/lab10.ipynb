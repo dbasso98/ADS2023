{
 "cells": [
  {
   "cell_type": "markdown",
   "metadata": {},
   "source": [
    "# Laboratorio 10\n",
    "## Visite in ampiezza e profondità - BFS & DFS"
   ]
  },
  {
   "cell_type": "markdown",
   "metadata": {},
   "source": [
    "### BFS\n",
    "*BFS (Breadth-First Search)* è un algoritmo di ricerca in ampiezza che esplora gradualmente il grafo, visitando tutti i nodi a una data profondità prima di passare alla profondità successiva. In altre parole, l'algoritmo esplora il grafo in modo **orizzontale**, visitando tutti i nodi adiacenti al nodo di partenza prima di passare ai nodi adiacenti ai nodi visitati. Si utilizza una **coda** per mantenere traccia dei nodi visitati e visitare ogni nodo solo una volta. \n",
    "\n",
    "**Domande:**\n",
    "1. In quale forma solitamente viene rappresentato un grafo di input per BFS?\n",
    "2. Qual è il tempo di esecuzione di BFS se rappresentiamo il suo grafo di input con una matrice di adiacenza e modifichiamo l'algoritmo per gestire questa forma di input?\n",
    "\n",
    "**Esercizio - Diametro di un albero d-ario utilizzando BFS**\n",
    "\n",
    "Dato un albero d-ario, è necessario calcolare la lunghezza del diametro dell'albero.\n",
    "Il diametro di un albero d-ario è la lunghezza del percorso più lungo tra due nodi qualsiasi dell'albero.\n",
    "\n",
    "*Hint:* L'albero può essere rappresentato come una lista di adiacenza."
   ]
  },
  {
   "cell_type": "code",
   "execution_count": 9,
   "metadata": {},
   "outputs": [],
   "source": [
    "from collections import deque\n",
    "\n",
    "class TreeNode:\n",
    "    def __init__(self, val=0, children=None):\n",
    "        self.val = val\n",
    "        self.children = children if children else []\n",
    "\n",
    "def tree_diameter(root: TreeNode) -> int:\n",
    "    \"\"\"\n",
    "    La funzione riceve in input il nodo radice di un albero d-ario e restituisce la lunghezza del diametro dell'albero.\n",
    "    \"\"\"\n",
    "    if not root:\n",
    "        return 0\n",
    "    \n",
    "    # Eseguiamo la prima BFS per trovare il nodo più lontano dalla radice\n",
    "    node1, _ = bfs(root)\n",
    "    \n",
    "    # Eseguiamo la seconda BFS partendo dal nodo più lontano trovato in precedenza\n",
    "    node2, diameter = bfs(node1)\n",
    "    \n",
    "    # Restituiamo l'ultima distanza trovata, che corrisponderà al diamtero dell'albero\n",
    "    return diameter\n",
    "\n",
    "def bfs(root: TreeNode) -> tuple[TreeNode, int]:\n",
    "    \"\"\"\n",
    "    La funzione riceve in input il nodo radice di un albero d-ario e restituisce il nodo più lontano dalla radice e la sua distanza.\n",
    "    \"\"\"\n",
    "    queue = deque([(root, 0)])\n",
    "    visited = set([root])\n",
    "    node, dist = root, 0\n",
    "    \n",
    "    while queue:\n",
    "        curr_node, curr_dist = queue.popleft()\n",
    "        \n",
    "        # Se la distanza corrente è maggiore della distanza massima trovata finora,\n",
    "        # aggiorniamo il nodo e la distanza massima\n",
    "        if curr_dist > dist:\n",
    "            node, dist = curr_node, curr_dist\n",
    "            \n",
    "        # Aggiungiamo i figli del nodo corrente alla coda\n",
    "        for child in curr_node.children:\n",
    "            if child not in visited:\n",
    "                queue.append((child, curr_dist + 1))\n",
    "                visited.add(child)\n",
    "                \n",
    "    return node, dist"
   ]
  },
  {
   "cell_type": "code",
   "execution_count": 14,
   "metadata": {},
   "outputs": [
    {
     "data": {
      "text/plain": [
       "4"
      ]
     },
     "execution_count": 14,
     "metadata": {},
     "output_type": "execute_result"
    }
   ],
   "source": [
    "root = TreeNode(1)\n",
    "node2 = TreeNode(2)\n",
    "node3 = TreeNode(3)\n",
    "node4 = TreeNode(4)\n",
    "node5 = TreeNode(5)\n",
    "node6 = TreeNode(6)\n",
    "node7 = TreeNode(7)\n",
    "\n",
    "root.children.extend([node2, node3, node6])\n",
    "node2.children.extend([root, node4, node5])\n",
    "node3.children.append(root)\n",
    "node6.children.extend([root, node7])\n",
    "node4.children.append(node2)\n",
    "node5.children.append(node2)\n",
    "node7.children.append(node6)\n",
    "\n",
    "#        1\n",
    "#     /  |  \\\n",
    "#    2   3   6\n",
    "#   / \\       \\\n",
    "#  4   5       7\n",
    "\n",
    "diameter = tree_diameter(root)\n",
    "diameter"
   ]
  },
  {
   "cell_type": "markdown",
   "metadata": {},
   "source": [
    "*Follow-up*: Settando d=2, quindi nel caso di un albero binario, quale sarebbe la complessità di tale algoritmo?"
   ]
  },
  {
   "cell_type": "markdown",
   "metadata": {},
   "source": [
    "### Grafi bipartiti\n",
    "\n",
    "Un grafo è bipartito se i suoi nodi possono essere divisi in due insiemi disgiunti $A$ e $B$ tali che ogni arco del grafo collega un nodo di $A$ ad un nodo di $B$ e nessun arco collega due nodi dello stesso insieme.\n",
    "\n",
    "La definizione è equivalente a dire che il grafo è bicromatico, ovvero che è possibile colorare i nodi con due colori in modo che ogni arco colleghi due nodi di colori diversi.\n",
    "\n",
    "**OSS**: Un grafo è bipartito se e solo se non contiene cicli di lunghezza dispari.\n",
    "\n",
    "* Mostrare che un grafo è bipartito se e solo se non contiene cicli di lunghezza dispari.\n",
    "* Scrivere una funzione `grafo_bipartito` che prende in input un grafo e restituisce `True` se il grafo è bipartito e `False` altrimenti.\n",
    "* Scrivere un algoritmo che restituisce il numero di cicli di un grafo."
   ]
  },
  {
   "cell_type": "markdown",
   "metadata": {},
   "source": [
    "Soluzione:\n",
    "\n",
    "1. \n",
    "    $\\rightarrow$: ovvio, se prendiamo un ciclo di lunghezza dispari, allora il ciclo deve contenere un numero dispari di nodi, ma la bipartizione implica che il numero di nodi sia pari.\n",
    "\n",
    "    $\\leftarrow$: se il grafo non contiene cicli di lunghezza dispari, allora è bipartito. \n",
    "    Tutti i cicli di lunghezza pari possono essere colorati con due colori alternati, quindi il grafo può essere bi-colorato.\n",
    "    Per mostrarlo, possiamo partire da un nodo arbitrario e colorarlo, poi procedere con una visita in ampiezza colorando i nodi adiacenti con il colore opposto. Se durante la visita si incontra un nodo già colorato con lo stesso colore del nodo corrente, allora il grafo non è bipartito, altrimenti lo è. \n",
    "\n",
    "2. \n",
    "    ```python\n",
    "    def grafo_bipartito(G, s):\n",
    "        '''\n",
    "        G: grafo \n",
    "        s: nodo sorgente\n",
    "        '''\n",
    "        Q <- Queue()\n",
    "        Q.enqueue(s)\n",
    "        color <- array(len(G))\n",
    "        for v in G:\n",
    "            color[v] <- None\n",
    "        color[s] <- 0\n",
    "        \n",
    "        while not Q.is_empty():\n",
    "            u <- Q.dequeue()\n",
    "            for v in G.adj[u]:\n",
    "                if color[v] is None:\n",
    "                    color[v] <- 1 - color[u]\n",
    "                    Q.enqueue(v)\n",
    "                elif color[v] == color[u]:\n",
    "                    return False\n",
    "        return True\n",
    "    ```\n",
    "\n",
    "3. Scrivere un algoritmo che restituisce il numero di cicli in un grafo. Per farlo, possiamo usare una variante della DFS che tiene traccia dei nodi già visitati e dei nodi che sono stati visitati ma non sono ancora stati completati. Se durante la visita si incontra un nodo già visitato ma non completato, allora si è trovato un ciclo.\n",
    "\n",
    "    ```python\n",
    "\n",
    "    \n",
    "    def numero_cicli(G):\n",
    "        '''\n",
    "        G: grafo \n",
    "        '''\n",
    "        visited <- array(len(G))\n",
    "        completed <- array(len(G))\n",
    "        count <- 0\n",
    "        for v in G:\n",
    "            visited[v] <- False\n",
    "            completed[v] <- False\n",
    "        for v in G:\n",
    "            if not visited[v]:\n",
    "                count <- count + dfs(G, v, visited, completed)\n",
    "        return count\n",
    "\n",
    "    def dfs(G, u, visited, completed):\n",
    "        '''\n",
    "        G: grafo\n",
    "        u: nodo corrente\n",
    "        visited: array di booleani\n",
    "        completed: array di booleani\n",
    "        '''\n",
    "        visited[u] <- True\n",
    "        for v in G.adj[u]:\n",
    "            if not visited[v]:\n",
    "                return dfs(G, v, visited, completed)\n",
    "            elif not completed[v]:\n",
    "                return 1\n",
    "        completed[u] <- True\n",
    "        return 0\n",
    "    ```\n",
    "Modificando questo algoritmo tenendo conto del tempo di inizio e fine visita di ogni nodo, si può stabilire la lunghezza del ciclo e pertanto usare questo algoritmo per rispondere alla domanda se il grafo sia bipartito o meno."
   ]
  },
  {
   "cell_type": "markdown",
   "metadata": {},
   "source": []
  }
 ],
 "metadata": {
  "kernelspec": {
   "display_name": "Python 3",
   "language": "python",
   "name": "python3"
  },
  "language_info": {
   "codemirror_mode": {
    "name": "ipython",
    "version": 3
   },
   "file_extension": ".py",
   "mimetype": "text/x-python",
   "name": "python",
   "nbconvert_exporter": "python",
   "pygments_lexer": "ipython3",
   "version": "3.11.4"
  }
 },
 "nbformat": 4,
 "nbformat_minor": 2
}
