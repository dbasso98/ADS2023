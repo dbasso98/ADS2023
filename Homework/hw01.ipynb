{
 "cells": [
  {
   "cell_type": "markdown",
   "metadata": {},
   "source": [
    "# Homework 1\n"
   ]
  },
  {
   "cell_type": "markdown",
   "metadata": {},
   "source": [
    "### Esercizi Teorici\n",
    "\n",
    "- Risolvere le seguenti relazioni di ricorrenza utilizzando il metodo dell'esperto:\n",
    "  - $$T(n) =  \\begin{cases} \n",
    "        c_1 & \\text{if } n \\leq 1 \\\\\n",
    "        16 T(\\frac{n}{4}) + n^2  & \\text{otherwise}\n",
    "        \\end{cases} $$\n",
    "\n",
    "\n",
    "  - $$T(n) =  \\begin{cases} \n",
    "          c_1 & \\text{if } n \\leq 1 \\\\\n",
    "          2 T(\\frac{n}{2}) + n\\ log(n)  & \\text{otherwise}\n",
    "          \\end{cases} $$\n",
    "\n",
    "  - $$T(n) =  \\begin{cases} \n",
    "          c_1 & \\text{if } n \\leq 1 \\\\\n",
    "          T(\\frac{n}{3}) + c_2  & \\text{otherwise}\n",
    "          \\end{cases} $$\n",
    "\n",
    "  - $$T(n) =  \\begin{cases} \n",
    "          c_1 & \\text{if } n \\leq 1 \\\\\n",
    "          \\sqrt{2} T(\\frac{n}{2}) + log \\ n & \\text{otherwise}\n",
    "          \\end{cases} $$\n",
    "  \n",
    "- Risolvere le seguenti relazioni di ricorrenza (nel modo che preferite):\n",
    "    - $$T(n) =  \\begin{cases} \n",
    "            c_1 & \\text{if } n \\leq 1 \\\\\n",
    "            4 T(\\frac{n}{2}) + n  & \\text{otherwise}\n",
    "            \\end{cases} $$\n",
    "\n",
    "\n",
    "    - $$T(n) =  \\begin{cases} \n",
    "            d & \\text{if } n \\leq 1 \\\\\n",
    "            T(\\frac{n}{3}) + T(\\frac{2n}{3}) + c\\cdot n& \\text{otherwise}\n",
    "            \\end{cases} \\ \\ \\ \\  \\text{con $d$, $c$ \\text{costanti} }$$\n",
    "  \n",
    "\n",
    "- Scrivere e risolvere la relazione di ricorrenza per il seguente algoritmo ricorsivo mediante metodo della sostituzione:\n",
    "\n",
    "    ```\n",
    "    def fun(n) -> int:\n",
    "        if (n <= 2)\n",
    "            return n;\n",
    "        else\n",
    "            return fun(n-1) - 2*fun(n-2);\n",
    "        endif\n",
    "    ```\n"
   ]
  },
  {
   "cell_type": "markdown",
   "metadata": {},
   "source": [
    "### Implementazione in Python\n",
    "\n",
    "1. Implementare l'algoritmo _merge sort_ in-place ed out-of-place. \n",
    "2. Plottare il grafico del tempo di esecuzione al variare della dimensione dell'input, commentando i risultati ottenuti."
   ]
  }
 ],
 "metadata": {
  "kernelspec": {
   "display_name": "Python 3",
   "language": "python",
   "name": "python3"
  },
  "language_info": {
   "codemirror_mode": {
    "name": "ipython",
    "version": 3
   },
   "file_extension": ".py",
   "mimetype": "text/x-python",
   "name": "python",
   "nbconvert_exporter": "python",
   "pygments_lexer": "ipython3",
   "version": "3.11.4"
  },
  "orig_nbformat": 4
 },
 "nbformat": 4,
 "nbformat_minor": 2
}
